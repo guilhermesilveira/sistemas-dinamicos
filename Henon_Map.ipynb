{
  "nbformat": 4,
  "nbformat_minor": 0,
  "metadata": {
    "colab": {
      "name": "Henon Map",
      "provenance": [],
      "collapsed_sections": []
    },
    "kernelspec": {
      "name": "python3",
      "display_name": "Python 3"
    }
  },
  "cells": [
    {
      "cell_type": "markdown",
      "metadata": {
        "id": "KLMUSP4EYrpn",
        "colab_type": "text"
      },
      "source": [
        "Implementação simples em python do mapa de Hénon\n",
        "\n",
        "https://en.wikipedia.org/wiki/H%C3%A9non_map"
      ]
    },
    {
      "cell_type": "code",
      "metadata": {
        "id": "6fqso8KkSNa-",
        "colab_type": "code",
        "colab": {}
      },
      "source": [
        "def meu_mapa(valores):\n",
        "  x = valores[0]\n",
        "  y = valores[1]\n",
        "  return [y + 1,x - 1]"
      ],
      "execution_count": null,
      "outputs": []
    },
    {
      "cell_type": "code",
      "metadata": {
        "id": "nYxSFdPDUMUX",
        "colab_type": "code",
        "colab": {
          "base_uri": "https://localhost:8080/",
          "height": 34
        },
        "outputId": "3aefb1d2-c6ca-49b8-b655-c9c0a3482243"
      },
      "source": [
        "meu_mapa([5,0])"
      ],
      "execution_count": null,
      "outputs": [
        {
          "output_type": "execute_result",
          "data": {
            "text/plain": [
              "[1, 4]"
            ]
          },
          "metadata": {
            "tags": []
          },
          "execution_count": 10
        }
      ]
    },
    {
      "cell_type": "code",
      "metadata": {
        "id": "3xA_krAOUN7g",
        "colab_type": "code",
        "colab": {
          "base_uri": "https://localhost:8080/",
          "height": 34
        },
        "outputId": "1ad2ef27-adbd-49e8-a2da-5771ab231b8a"
      },
      "source": [
        "meu_mapa(meu_mapa([5,0]))"
      ],
      "execution_count": null,
      "outputs": [
        {
          "output_type": "execute_result",
          "data": {
            "text/plain": [
              "[5, 0]"
            ]
          },
          "metadata": {
            "tags": []
          },
          "execution_count": 11
        }
      ]
    },
    {
      "cell_type": "code",
      "metadata": {
        "id": "dEtepdxVUSNg",
        "colab_type": "code",
        "colab": {}
      },
      "source": [
        "def henon_14_03(valores):\n",
        "  a = 1.4\n",
        "  b = 0.3\n",
        "  x_n = valores[0]\n",
        "  y_n = valores[1]\n",
        "  x_n_1 = 1 - a * x_n * x_n + y_n\n",
        "  y_n_1 = b * x_n\n",
        "  return [x_n_1, y_n_1]"
      ],
      "execution_count": null,
      "outputs": []
    },
    {
      "cell_type": "code",
      "metadata": {
        "id": "XnMxlc3HVW4x",
        "colab_type": "code",
        "colab": {
          "base_uri": "https://localhost:8080/",
          "height": 34
        },
        "outputId": "f9c01e88-6557-43e6-c6f1-c486676c6773"
      },
      "source": [
        "henon_14_03((0.1, 0.2))"
      ],
      "execution_count": null,
      "outputs": [
        {
          "output_type": "execute_result",
          "data": {
            "text/plain": [
              "[1.186, 0.03]"
            ]
          },
          "metadata": {
            "tags": []
          },
          "execution_count": 13
        }
      ]
    },
    {
      "cell_type": "code",
      "metadata": {
        "id": "6YF-GwcAVaEQ",
        "colab_type": "code",
        "colab": {
          "base_uri": "https://localhost:8080/",
          "height": 34
        },
        "outputId": "70cf87bd-8819-4f8f-bb4f-a5389409ad11"
      },
      "source": [
        "henon_14_03(henon_14_03((0.1, 0.2)))"
      ],
      "execution_count": null,
      "outputs": [
        {
          "output_type": "execute_result",
          "data": {
            "text/plain": [
              "[-0.9392343999999997, 0.35579999999999995]"
            ]
          },
          "metadata": {
            "tags": []
          },
          "execution_count": 14
        }
      ]
    },
    {
      "cell_type": "code",
      "metadata": {
        "id": "bNtnhCBhVdlX",
        "colab_type": "code",
        "colab": {}
      },
      "source": [
        "import numpy as np\n",
        "\n",
        "def roda_sistema(f, x0, pontos_a_processar, pontos_a_ignorar = 0):\n",
        "  x_atual = x0\n",
        "  resultados = []\n",
        "  # TODO não usar copy e paste\n",
        "  for i in range(pontos_a_ignorar):\n",
        "    x_atual = f(x_atual)\n",
        "  for i in range(pontos_a_processar):\n",
        "    x_atual = f(x_atual)\n",
        "    resultados.append(x_atual)\n",
        "  return np.array(resultados)"
      ],
      "execution_count": null,
      "outputs": []
    },
    {
      "cell_type": "code",
      "metadata": {
        "id": "wguFuMXSVzD3",
        "colab_type": "code",
        "colab": {}
      },
      "source": [
        "import matplotlib.pyplot as plt\n",
        "\n",
        "def desenha_resultados(resultados):\n",
        "  # TODO escala igual em X e em Y\n",
        "  plt.figure(figsize=(6,6))\n",
        "  plt.scatter(resultados[:,0], resultados[:,1], s=1)\n",
        "  plt.show()"
      ],
      "execution_count": null,
      "outputs": []
    },
    {
      "cell_type": "code",
      "metadata": {
        "id": "Q2vxt7-BWMGo",
        "colab_type": "code",
        "colab": {
          "base_uri": "https://localhost:8080/",
          "height": 374
        },
        "outputId": "25790e70-674d-4b5b-bfef-06506f15882d"
      },
      "source": [
        "resultados = roda_sistema(henon_14_03, (0.1, 0.2), 100)\n",
        "desenha_resultados(resultados)"
      ],
      "execution_count": null,
      "outputs": [
        {
          "output_type": "display_data",
          "data": {
            "image/png": "[encoded data removed]",
            "text/plain": [
              "<Figure size 432x432 with 1 Axes>"
            ]
          },
          "metadata": {
            "tags": [],
            "needs_background": "light"
          }
        }
      ]
    },
    {
      "cell_type": "code",
      "metadata": {
        "id": "e1KYp-CQWNN4",
        "colab_type": "code",
        "colab": {
          "base_uri": "https://localhost:8080/",
          "height": 374
        },
        "outputId": "500697d5-0d15-46b9-b1dc-58964fb38ee4"
      },
      "source": [
        "resultados = roda_sistema(henon_14_03, (0.1, 0.2), 10000)\n",
        "desenha_resultados(resultados)"
      ],
      "execution_count": null,
      "outputs": [
        {
          "output_type": "display_data",
          "data": {
            "image/png": "[encoded data removed]",
            "text/plain": [
              "<Figure size 432x432 with 1 Axes>"
            ]
          },
          "metadata": {
            "tags": [],
            "needs_background": "light"
          }
        }
      ]
    },
    {
      "cell_type": "code",
      "metadata": {
        "id": "q78V0uX2WyAw",
        "colab_type": "code",
        "colab": {}
      },
      "source": [
        "def henon_12_02(valores):\n",
        "  # TODO criar uma unica funcão geradora de henons\n",
        "  # que recebe a e b e devolve uma funcao de henon\n",
        "  a = 1.2\n",
        "  b = 0.2\n",
        "  x_n = valores[0]\n",
        "  y_n = valores[1]\n",
        "  x_n_1 = 1 - a * x_n * x_n + y_n\n",
        "  y_n_1 = b * x_n\n",
        "  return [x_n_1, y_n_1]"
      ],
      "execution_count": null,
      "outputs": []
    },
    {
      "cell_type": "code",
      "metadata": {
        "id": "y3mVQWlOXBeI",
        "colab_type": "code",
        "colab": {
          "base_uri": "https://localhost:8080/",
          "height": 374
        },
        "outputId": "90bbddcc-3916-4795-ec9a-003871958cd0"
      },
      "source": [
        "resultados = roda_sistema(henon_12_02, (0.1, 0.2), 10000)\n",
        "desenha_resultados(resultados)"
      ],
      "execution_count": null,
      "outputs": [
        {
          "output_type": "display_data",
          "data": {
            "image/png": "[encoded data removed]",
            "text/plain": [
              "<Figure size 432x432 with 1 Axes>"
            ]
          },
          "metadata": {
            "tags": [],
            "needs_background": "light"
          }
        }
      ]
    },
    {
      "cell_type": "code",
      "metadata": {
        "id": "m714PtzFXEm1",
        "colab_type": "code",
        "colab": {
          "base_uri": "https://localhost:8080/",
          "height": 34
        },
        "outputId": "b96736c9-c006-429d-ee32-0ada63a65c04"
      },
      "source": [
        "henon_12_02((0.1,0.2))"
      ],
      "execution_count": null,
      "outputs": [
        {
          "output_type": "execute_result",
          "data": {
            "text/plain": [
              "[1.188, 0.020000000000000004]"
            ]
          },
          "metadata": {
            "tags": []
          },
          "execution_count": 52
        }
      ]
    },
    {
      "cell_type": "code",
      "metadata": {
        "id": "X82oQ9DWXRZv",
        "colab_type": "code",
        "colab": {
          "base_uri": "https://localhost:8080/",
          "height": 34
        },
        "outputId": "8a2c34c2-7da7-45bc-c8e5-4f561212cc28"
      },
      "source": [
        "henon_12_02(henon_12_02((0.1,0.2)))"
      ],
      "execution_count": null,
      "outputs": [
        {
          "output_type": "execute_result",
          "data": {
            "text/plain": [
              "[-0.6736127999999999, 0.2376]"
            ]
          },
          "metadata": {
            "tags": []
          },
          "execution_count": 53
        }
      ]
    },
    {
      "cell_type": "code",
      "metadata": {
        "id": "Pq-8jCoJXWsP",
        "colab_type": "code",
        "colab": {}
      },
      "source": [
        "def duplicador(f):\n",
        "  # TODO usar lambdas\n",
        "  def funcao_duplicada(valores):\n",
        "    return f(f(valores))\n",
        "  return funcao_duplicada"
      ],
      "execution_count": null,
      "outputs": []
    },
    {
      "cell_type": "code",
      "metadata": {
        "id": "KSJ_4Qy1Xydn",
        "colab_type": "code",
        "colab": {
          "base_uri": "https://localhost:8080/",
          "height": 34
        },
        "outputId": "ca32318f-ec60-4197-f3ad-5f461e48e760"
      },
      "source": [
        "duplicador(henon_12_02)"
      ],
      "execution_count": null,
      "outputs": [
        {
          "output_type": "execute_result",
          "data": {
            "text/plain": [
              "<function __main__.duplicador.<locals>.funcao_duplicada>"
            ]
          },
          "metadata": {
            "tags": []
          },
          "execution_count": 55
        }
      ]
    },
    {
      "cell_type": "code",
      "metadata": {
        "id": "n90I4B3pX0WY",
        "colab_type": "code",
        "colab": {
          "base_uri": "https://localhost:8080/",
          "height": 374
        },
        "outputId": "0616fd60-e654-4729-e20d-6278c9d259a0"
      },
      "source": [
        "resultados = roda_sistema(duplicador(henon_12_02), (0.1, 0.2), 10000)\n",
        "desenha_resultados(resultados)"
      ],
      "execution_count": null,
      "outputs": [
        {
          "output_type": "display_data",
          "data": {
            "image/png": "[encoded data removed]",
            "text/plain": [
              "<Figure size 432x432 with 1 Axes>"
            ]
          },
          "metadata": {
            "tags": [],
            "needs_background": "light"
          }
        }
      ]
    },
    {
      "cell_type": "code",
      "metadata": {
        "id": "b_4vTN-IYCwy",
        "colab_type": "code",
        "colab": {
          "base_uri": "https://localhost:8080/",
          "height": 34
        },
        "outputId": "e192f739-ee17-4e6c-d770-16463c265408"
      },
      "source": [
        "henon_12_02((0.1, 0.2))"
      ],
      "execution_count": null,
      "outputs": [
        {
          "output_type": "execute_result",
          "data": {
            "text/plain": [
              "[1.188, 0.020000000000000004]"
            ]
          },
          "metadata": {
            "tags": []
          },
          "execution_count": 57
        }
      ]
    },
    {
      "cell_type": "code",
      "metadata": {
        "id": "vslsB1SWX4HX",
        "colab_type": "code",
        "colab": {
          "base_uri": "https://localhost:8080/",
          "height": 374
        },
        "outputId": "ddfdf2f2-4eeb-45da-fc58-5287d76d9776"
      },
      "source": [
        "resultados = roda_sistema(duplicador(henon_12_02), (1.188, 0.02), 10000)\n",
        "desenha_resultados(resultados)"
      ],
      "execution_count": null,
      "outputs": [
        {
          "output_type": "display_data",
          "data": {
            "image/png": "[encoded data removed]",
            "text/plain": [
              "<Figure size 432x432 with 1 Axes>"
            ]
          },
          "metadata": {
            "tags": [],
            "needs_background": "light"
          }
        }
      ]
    },
    {
      "cell_type": "code",
      "metadata": {
        "id": "pRSvvHkpX942",
        "colab_type": "code",
        "colab": {
          "base_uri": "https://localhost:8080/",
          "height": 374
        },
        "outputId": "c4568f54-4019-4411-ab84-9679e0357859"
      },
      "source": [
        "resultados = roda_sistema(duplicador(henon_12_02), (1.188, 0.02), 10000, pontos_a_ignorar=1000)\n",
        "desenha_resultados(resultados)"
      ],
      "execution_count": null,
      "outputs": [
        {
          "output_type": "display_data",
          "data": {
            "image/png": "[encoded data removed]",
            "text/plain": [
              "<Figure size 432x432 with 1 Axes>"
            ]
          },
          "metadata": {
            "tags": [],
            "needs_background": "light"
          }
        }
      ]
    },
    {
      "cell_type": "code",
      "metadata": {
        "id": "ADi4K_A2YYxA",
        "colab_type": "code",
        "colab": {}
      },
      "source": [
        ""
      ],
      "execution_count": null,
      "outputs": []
    }
  ]
}